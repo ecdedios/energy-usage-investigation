{
 "cells": [
  {
   "cell_type": "code",
   "execution_count": 1,
   "id": "75380ea8-5604-42e9-a48e-4f320170d412",
   "metadata": {},
   "outputs": [],
   "source": [
    "# for manipulating dataframes\n",
    "import pandas as pd\n",
    "import numpy as np\n",
    "\n",
    "import statsmodels.api as sm\n",
    "\n",
    "# for visualizations\n",
    "%matplotlib inline\n",
    "import matplotlib.pyplot as plt\n",
    "from matplotlib.ticker import FixedLocator\n",
    "\n",
    "# to print out all the outputs\n",
    "from IPython.core.interactiveshell import InteractiveShell\n",
    "InteractiveShell.ast_node_interactivity = \"all\"\n",
    "\n",
    "# set display options\n",
    "pd.set_option('display.max_columns', None)\n",
    "pd.set_option('display.max_rows', None)\n",
    "pd.set_option('display.max_colwidth', None)"
   ]
  },
  {
   "cell_type": "code",
   "execution_count": 2,
   "id": "966dfe73-2c41-45f6-a1b5-e2c30d969fdc",
   "metadata": {},
   "outputs": [
    {
     "name": "stderr",
     "output_type": "stream",
     "text": [
      "IOPub data rate exceeded.\n",
      "The Jupyter server will temporarily stop sending output\n",
      "to the client in order to avoid crashing it.\n",
      "To change this limit, set the config variable\n",
      "`--ServerApp.iopub_data_rate_limit`.\n",
      "\n",
      "Current values:\n",
      "ServerApp.iopub_data_rate_limit=1000000.0 (bytes/sec)\n",
      "ServerApp.rate_limit_window=3.0 (secs)\n",
      "\n"
     ]
    }
   ],
   "source": [
    "import pandas as pd\n",
    "import os\n",
    "\n",
    "# Define the folder containing the CSV files\n",
    "folder_path = \"../data\"\n",
    "\n",
    "# Define the columns to include\n",
    "columns_to_use = [\"Date/Time\", \"Kind\", \"Quantity\", \"Units\", \"Interval\"]\n",
    "\n",
    "# Initialize an empty list to store DataFrames\n",
    "dataframes = []\n",
    "\n",
    "# Loop through all files in the folder\n",
    "for file_name in os.listdir(folder_path):\n",
    "    # Construct the full file path\n",
    "    file_path = os.path.join(folder_path, file_name)\n",
    "    \n",
    "    # Check if the file is a CSV\n",
    "    if file_name.endswith('.csv'):\n",
    "        # Read the CSV, skipping the first 10 rows and selecting specified columns\n",
    "        df = pd.read_csv(file_path, skiprows=9, usecols=columns_to_use)\n",
    "        dataframes.append(df)\n",
    "\n",
    "# Concatenate all DataFrames into a single DataFrame\n",
    "combined_dataframe = pd.concat(dataframes, ignore_index=True)\n",
    "\n",
    "# Display the resulting DataFrame\n",
    "print(combined_dataframe)\n"
   ]
  },
  {
   "cell_type": "code",
   "execution_count": 3,
   "id": "b24295d2-7b71-4272-87cf-debe0a658286",
   "metadata": {},
   "outputs": [
    {
     "data": {
      "text/plain": [
       "(52116, 5)"
      ]
     },
     "execution_count": 3,
     "metadata": {},
     "output_type": "execute_result"
    }
   ],
   "source": [
    "df.shape"
   ]
  },
  {
   "cell_type": "code",
   "execution_count": 4,
   "id": "525ca168-402d-4aa3-a618-51be3c7e3a7e",
   "metadata": {},
   "outputs": [
    {
     "data": {
      "text/html": [
       "<div>\n",
       "<style scoped>\n",
       "    .dataframe tbody tr th:only-of-type {\n",
       "        vertical-align: middle;\n",
       "    }\n",
       "\n",
       "    .dataframe tbody tr th {\n",
       "        vertical-align: top;\n",
       "    }\n",
       "\n",
       "    .dataframe thead th {\n",
       "        text-align: right;\n",
       "    }\n",
       "</style>\n",
       "<table border=\"1\" class=\"dataframe\">\n",
       "  <thead>\n",
       "    <tr style=\"text-align: right;\">\n",
       "      <th></th>\n",
       "      <th>Date/Time</th>\n",
       "      <th>Kind</th>\n",
       "      <th>Quantity</th>\n",
       "      <th>Units</th>\n",
       "      <th>Interval</th>\n",
       "    </tr>\n",
       "  </thead>\n",
       "  <tbody>\n",
       "    <tr>\n",
       "      <th>0</th>\n",
       "      <td>12/26/2022 00:00</td>\n",
       "      <td>Reverse Usage</td>\n",
       "      <td>0.0000</td>\n",
       "      <td>kwh</td>\n",
       "      <td>15min</td>\n",
       "    </tr>\n",
       "    <tr>\n",
       "      <th>1</th>\n",
       "      <td>12/26/2022 00:00</td>\n",
       "      <td>Usage</td>\n",
       "      <td>0.1236</td>\n",
       "      <td>kwh</td>\n",
       "      <td>15min</td>\n",
       "    </tr>\n",
       "    <tr>\n",
       "      <th>2</th>\n",
       "      <td>12/26/2022 00:00</td>\n",
       "      <td>Net Usage</td>\n",
       "      <td>0.1236</td>\n",
       "      <td>kwh</td>\n",
       "      <td>15min</td>\n",
       "    </tr>\n",
       "    <tr>\n",
       "      <th>3</th>\n",
       "      <td>12/26/2022 00:15</td>\n",
       "      <td>Reverse Usage</td>\n",
       "      <td>0.0000</td>\n",
       "      <td>kwh</td>\n",
       "      <td>15min</td>\n",
       "    </tr>\n",
       "    <tr>\n",
       "      <th>4</th>\n",
       "      <td>12/26/2022 00:15</td>\n",
       "      <td>Usage</td>\n",
       "      <td>0.0804</td>\n",
       "      <td>kwh</td>\n",
       "      <td>15min</td>\n",
       "    </tr>\n",
       "    <tr>\n",
       "      <th>5</th>\n",
       "      <td>12/26/2022 00:15</td>\n",
       "      <td>Net Usage</td>\n",
       "      <td>0.0804</td>\n",
       "      <td>kwh</td>\n",
       "      <td>15min</td>\n",
       "    </tr>\n",
       "    <tr>\n",
       "      <th>6</th>\n",
       "      <td>12/26/2022 00:30</td>\n",
       "      <td>Reverse Usage</td>\n",
       "      <td>0.0000</td>\n",
       "      <td>kwh</td>\n",
       "      <td>15min</td>\n",
       "    </tr>\n",
       "    <tr>\n",
       "      <th>7</th>\n",
       "      <td>12/26/2022 00:30</td>\n",
       "      <td>Usage</td>\n",
       "      <td>1.1826</td>\n",
       "      <td>kwh</td>\n",
       "      <td>15min</td>\n",
       "    </tr>\n",
       "    <tr>\n",
       "      <th>8</th>\n",
       "      <td>12/26/2022 00:30</td>\n",
       "      <td>Net Usage</td>\n",
       "      <td>1.1826</td>\n",
       "      <td>kwh</td>\n",
       "      <td>15min</td>\n",
       "    </tr>\n",
       "    <tr>\n",
       "      <th>9</th>\n",
       "      <td>12/26/2022 00:45</td>\n",
       "      <td>Reverse Usage</td>\n",
       "      <td>0.0000</td>\n",
       "      <td>kwh</td>\n",
       "      <td>15min</td>\n",
       "    </tr>\n",
       "    <tr>\n",
       "      <th>10</th>\n",
       "      <td>12/26/2022 00:45</td>\n",
       "      <td>Usage</td>\n",
       "      <td>0.6324</td>\n",
       "      <td>kwh</td>\n",
       "      <td>15min</td>\n",
       "    </tr>\n",
       "    <tr>\n",
       "      <th>11</th>\n",
       "      <td>12/26/2022 00:45</td>\n",
       "      <td>Net Usage</td>\n",
       "      <td>0.6324</td>\n",
       "      <td>kwh</td>\n",
       "      <td>15min</td>\n",
       "    </tr>\n",
       "    <tr>\n",
       "      <th>12</th>\n",
       "      <td>12/26/2022 01:00</td>\n",
       "      <td>Reverse Usage</td>\n",
       "      <td>0.0000</td>\n",
       "      <td>kwh</td>\n",
       "      <td>15min</td>\n",
       "    </tr>\n",
       "    <tr>\n",
       "      <th>13</th>\n",
       "      <td>12/26/2022 01:00</td>\n",
       "      <td>Usage</td>\n",
       "      <td>0.0846</td>\n",
       "      <td>kwh</td>\n",
       "      <td>15min</td>\n",
       "    </tr>\n",
       "    <tr>\n",
       "      <th>14</th>\n",
       "      <td>12/26/2022 01:00</td>\n",
       "      <td>Net Usage</td>\n",
       "      <td>0.0846</td>\n",
       "      <td>kwh</td>\n",
       "      <td>15min</td>\n",
       "    </tr>\n",
       "    <tr>\n",
       "      <th>15</th>\n",
       "      <td>12/26/2022 01:15</td>\n",
       "      <td>Reverse Usage</td>\n",
       "      <td>0.0000</td>\n",
       "      <td>kwh</td>\n",
       "      <td>15min</td>\n",
       "    </tr>\n",
       "    <tr>\n",
       "      <th>16</th>\n",
       "      <td>12/26/2022 01:15</td>\n",
       "      <td>Usage</td>\n",
       "      <td>0.8016</td>\n",
       "      <td>kwh</td>\n",
       "      <td>15min</td>\n",
       "    </tr>\n",
       "    <tr>\n",
       "      <th>17</th>\n",
       "      <td>12/26/2022 01:15</td>\n",
       "      <td>Net Usage</td>\n",
       "      <td>0.8016</td>\n",
       "      <td>kwh</td>\n",
       "      <td>15min</td>\n",
       "    </tr>\n",
       "    <tr>\n",
       "      <th>18</th>\n",
       "      <td>12/26/2022 01:30</td>\n",
       "      <td>Reverse Usage</td>\n",
       "      <td>0.0000</td>\n",
       "      <td>kwh</td>\n",
       "      <td>15min</td>\n",
       "    </tr>\n",
       "    <tr>\n",
       "      <th>19</th>\n",
       "      <td>12/26/2022 01:30</td>\n",
       "      <td>Usage</td>\n",
       "      <td>2.1732</td>\n",
       "      <td>kwh</td>\n",
       "      <td>15min</td>\n",
       "    </tr>\n",
       "  </tbody>\n",
       "</table>\n",
       "</div>"
      ],
      "text/plain": [
       "           Date/Time           Kind  Quantity Units Interval\n",
       "0   12/26/2022 00:00  Reverse Usage    0.0000   kwh    15min\n",
       "1   12/26/2022 00:00          Usage    0.1236   kwh    15min\n",
       "2   12/26/2022 00:00      Net Usage    0.1236   kwh    15min\n",
       "3   12/26/2022 00:15  Reverse Usage    0.0000   kwh    15min\n",
       "4   12/26/2022 00:15          Usage    0.0804   kwh    15min\n",
       "5   12/26/2022 00:15      Net Usage    0.0804   kwh    15min\n",
       "6   12/26/2022 00:30  Reverse Usage    0.0000   kwh    15min\n",
       "7   12/26/2022 00:30          Usage    1.1826   kwh    15min\n",
       "8   12/26/2022 00:30      Net Usage    1.1826   kwh    15min\n",
       "9   12/26/2022 00:45  Reverse Usage    0.0000   kwh    15min\n",
       "10  12/26/2022 00:45          Usage    0.6324   kwh    15min\n",
       "11  12/26/2022 00:45      Net Usage    0.6324   kwh    15min\n",
       "12  12/26/2022 01:00  Reverse Usage    0.0000   kwh    15min\n",
       "13  12/26/2022 01:00          Usage    0.0846   kwh    15min\n",
       "14  12/26/2022 01:00      Net Usage    0.0846   kwh    15min\n",
       "15  12/26/2022 01:15  Reverse Usage    0.0000   kwh    15min\n",
       "16  12/26/2022 01:15          Usage    0.8016   kwh    15min\n",
       "17  12/26/2022 01:15      Net Usage    0.8016   kwh    15min\n",
       "18  12/26/2022 01:30  Reverse Usage    0.0000   kwh    15min\n",
       "19  12/26/2022 01:30          Usage    2.1732   kwh    15min"
      ]
     },
     "execution_count": 4,
     "metadata": {},
     "output_type": "execute_result"
    }
   ],
   "source": [
    "df.head(20)"
   ]
  },
  {
   "cell_type": "code",
   "execution_count": 5,
   "id": "86e3e141-ee07-4233-8183-13f8e932089d",
   "metadata": {},
   "outputs": [],
   "source": [
    "dfx = combined_dataframe[combined_dataframe[\"Kind\"] == \"Usage\"]"
   ]
  },
  {
   "cell_type": "code",
   "execution_count": 6,
   "id": "71e3d76c-2a41-44b8-87f9-5a529ede2a0d",
   "metadata": {},
   "outputs": [
    {
     "data": {
      "text/html": [
       "<div>\n",
       "<style scoped>\n",
       "    .dataframe tbody tr th:only-of-type {\n",
       "        vertical-align: middle;\n",
       "    }\n",
       "\n",
       "    .dataframe tbody tr th {\n",
       "        vertical-align: top;\n",
       "    }\n",
       "\n",
       "    .dataframe thead th {\n",
       "        text-align: right;\n",
       "    }\n",
       "</style>\n",
       "<table border=\"1\" class=\"dataframe\">\n",
       "  <thead>\n",
       "    <tr style=\"text-align: right;\">\n",
       "      <th></th>\n",
       "      <th>Date/Time</th>\n",
       "      <th>Quantity</th>\n",
       "    </tr>\n",
       "  </thead>\n",
       "  <tbody>\n",
       "    <tr>\n",
       "      <th>1</th>\n",
       "      <td>01/01/2022 00:00</td>\n",
       "      <td>0.4290</td>\n",
       "    </tr>\n",
       "    <tr>\n",
       "      <th>4</th>\n",
       "      <td>01/01/2022 00:15</td>\n",
       "      <td>0.1494</td>\n",
       "    </tr>\n",
       "    <tr>\n",
       "      <th>7</th>\n",
       "      <td>01/01/2022 00:30</td>\n",
       "      <td>0.3636</td>\n",
       "    </tr>\n",
       "    <tr>\n",
       "      <th>10</th>\n",
       "      <td>01/01/2022 00:45</td>\n",
       "      <td>1.1712</td>\n",
       "    </tr>\n",
       "    <tr>\n",
       "      <th>13</th>\n",
       "      <td>01/01/2022 01:00</td>\n",
       "      <td>0.3258</td>\n",
       "    </tr>\n",
       "  </tbody>\n",
       "</table>\n",
       "</div>"
      ],
      "text/plain": [
       "           Date/Time  Quantity\n",
       "1   01/01/2022 00:00    0.4290\n",
       "4   01/01/2022 00:15    0.1494\n",
       "7   01/01/2022 00:30    0.3636\n",
       "10  01/01/2022 00:45    1.1712\n",
       "13  01/01/2022 01:00    0.3258"
      ]
     },
     "execution_count": 6,
     "metadata": {},
     "output_type": "execute_result"
    }
   ],
   "source": [
    "dfx = dfx.drop(columns=[\"Kind\", \"Units\", \"Interval\"])\n",
    "dfx.head()"
   ]
  },
  {
   "cell_type": "code",
   "execution_count": 7,
   "id": "46faa98a-a8d9-4fa9-86fb-0b89cf351bf5",
   "metadata": {},
   "outputs": [
    {
     "name": "stdout",
     "output_type": "stream",
     "text": [
      "                     Quantity\n",
      "Date/Time                    \n",
      "2022-01-01 00:00:00    0.4290\n",
      "2022-01-01 00:15:00    0.1494\n",
      "2022-01-01 00:30:00    0.3636\n",
      "2022-01-01 00:45:00    1.1712\n",
      "2022-01-01 01:00:00    0.3258\n"
     ]
    }
   ],
   "source": [
    "# Convert 'Date/Time' to the desired format\n",
    "dfx[\"Date/Time\"] = pd.to_datetime(dfx[\"Date/Time\"].str.strip()).dt.strftime(\"%Y-%m-%d %H:%M:%S\")\n",
    "dfx = dfx.set_index(\"Date/Time\")\n",
    "dfx = dfx.sort_index()\n",
    "\n",
    "# Display the updated DataFrame\n",
    "print(dfx.head())\n"
   ]
  },
  {
   "cell_type": "code",
   "execution_count": 8,
   "id": "509d2f92-1307-41fc-bc20-8db613605034",
   "metadata": {},
   "outputs": [
    {
     "name": "stdout",
     "output_type": "stream",
     "text": [
      "No missing data points.\n"
     ]
    }
   ],
   "source": [
    "# Generate a complete range of 15-minute intervals\n",
    "start_time = df[\"Date/Time\"].min()\n",
    "end_time = df[\"Date/Time\"].max()\n",
    "complete_range = pd.date_range(start=start_time, end=end_time, freq=\"15min\")\n",
    "\n",
    "# Sort the DataFrame\n",
    "df = df.sort_values(by=\"Date/Time\")\n",
    "\n",
    "# Find missing timestamps\n",
    "missing_timestamps = complete_range.difference(df[\"Date/Time\"])\n",
    "\n",
    "if missing_timestamps.empty:\n",
    "    print(\"No missing data points.\")\n",
    "else:\n",
    "    print(\"Missing data points:\")\n",
    "    print(missing_timestamps)"
   ]
  },
  {
   "cell_type": "code",
   "execution_count": 9,
   "id": "2327c1de-0c0d-4754-9a06-472ce2ebed12",
   "metadata": {},
   "outputs": [
    {
     "data": {
      "text/html": [
       "<div>\n",
       "<style scoped>\n",
       "    .dataframe tbody tr th:only-of-type {\n",
       "        vertical-align: middle;\n",
       "    }\n",
       "\n",
       "    .dataframe tbody tr th {\n",
       "        vertical-align: top;\n",
       "    }\n",
       "\n",
       "    .dataframe thead th {\n",
       "        text-align: right;\n",
       "    }\n",
       "</style>\n",
       "<table border=\"1\" class=\"dataframe\">\n",
       "  <thead>\n",
       "    <tr style=\"text-align: right;\">\n",
       "      <th></th>\n",
       "      <th>Quantity</th>\n",
       "    </tr>\n",
       "    <tr>\n",
       "      <th>Date/Time</th>\n",
       "      <th></th>\n",
       "    </tr>\n",
       "  </thead>\n",
       "  <tbody>\n",
       "    <tr>\n",
       "      <th>2022-01-01 00:00:00</th>\n",
       "      <td>0.4290</td>\n",
       "    </tr>\n",
       "    <tr>\n",
       "      <th>2022-01-01 00:15:00</th>\n",
       "      <td>0.1494</td>\n",
       "    </tr>\n",
       "    <tr>\n",
       "      <th>2022-01-01 00:30:00</th>\n",
       "      <td>0.3636</td>\n",
       "    </tr>\n",
       "    <tr>\n",
       "      <th>2022-01-01 00:45:00</th>\n",
       "      <td>1.1712</td>\n",
       "    </tr>\n",
       "    <tr>\n",
       "      <th>2022-01-01 01:00:00</th>\n",
       "      <td>0.3258</td>\n",
       "    </tr>\n",
       "  </tbody>\n",
       "</table>\n",
       "</div>"
      ],
      "text/plain": [
       "                     Quantity\n",
       "Date/Time                    \n",
       "2022-01-01 00:00:00    0.4290\n",
       "2022-01-01 00:15:00    0.1494\n",
       "2022-01-01 00:30:00    0.3636\n",
       "2022-01-01 00:45:00    1.1712\n",
       "2022-01-01 01:00:00    0.3258"
      ]
     },
     "execution_count": 9,
     "metadata": {},
     "output_type": "execute_result"
    }
   ],
   "source": [
    "dfx.head()"
   ]
  },
  {
   "cell_type": "code",
   "execution_count": 10,
   "id": "e47be7d6-270c-4f9b-9aa2-3eb56a54d6ac",
   "metadata": {},
   "outputs": [
    {
     "data": {
      "text/plain": [
       "Quantity    float64\n",
       "dtype: object"
      ]
     },
     "execution_count": 10,
     "metadata": {},
     "output_type": "execute_result"
    }
   ],
   "source": [
    "dfx.dtypes"
   ]
  },
  {
   "cell_type": "code",
   "execution_count": 11,
   "id": "df6426dc-3f8a-451d-b977-d92438acb13a",
   "metadata": {},
   "outputs": [
    {
     "data": {
      "text/html": [
       "<div>\n",
       "<style scoped>\n",
       "    .dataframe tbody tr th:only-of-type {\n",
       "        vertical-align: middle;\n",
       "    }\n",
       "\n",
       "    .dataframe tbody tr th {\n",
       "        vertical-align: top;\n",
       "    }\n",
       "\n",
       "    .dataframe thead th {\n",
       "        text-align: right;\n",
       "    }\n",
       "</style>\n",
       "<table border=\"1\" class=\"dataframe\">\n",
       "  <thead>\n",
       "    <tr style=\"text-align: right;\">\n",
       "      <th></th>\n",
       "      <th>Quantity</th>\n",
       "    </tr>\n",
       "  </thead>\n",
       "  <tbody>\n",
       "    <tr>\n",
       "      <th>count</th>\n",
       "      <td>103059.000000</td>\n",
       "    </tr>\n",
       "    <tr>\n",
       "      <th>mean</th>\n",
       "      <td>0.308176</td>\n",
       "    </tr>\n",
       "    <tr>\n",
       "      <th>std</th>\n",
       "      <td>0.384464</td>\n",
       "    </tr>\n",
       "    <tr>\n",
       "      <th>min</th>\n",
       "      <td>0.000000</td>\n",
       "    </tr>\n",
       "    <tr>\n",
       "      <th>25%</th>\n",
       "      <td>0.018000</td>\n",
       "    </tr>\n",
       "    <tr>\n",
       "      <th>50%</th>\n",
       "      <td>0.160200</td>\n",
       "    </tr>\n",
       "    <tr>\n",
       "      <th>75%</th>\n",
       "      <td>0.460200</td>\n",
       "    </tr>\n",
       "    <tr>\n",
       "      <th>max</th>\n",
       "      <td>5.901600</td>\n",
       "    </tr>\n",
       "  </tbody>\n",
       "</table>\n",
       "</div>"
      ],
      "text/plain": [
       "            Quantity\n",
       "count  103059.000000\n",
       "mean        0.308176\n",
       "std         0.384464\n",
       "min         0.000000\n",
       "25%         0.018000\n",
       "50%         0.160200\n",
       "75%         0.460200\n",
       "max         5.901600"
      ]
     },
     "execution_count": 11,
     "metadata": {},
     "output_type": "execute_result"
    }
   ],
   "source": [
    "dfx.describe()"
   ]
  },
  {
   "cell_type": "code",
   "execution_count": 12,
   "id": "8b76b6be-cc0e-4650-9834-3b12b203d53f",
   "metadata": {},
   "outputs": [],
   "source": [
    "dfx.to_csv(\"../electricity_usage/energy_use.csv\", index=True)"
   ]
  },
  {
   "cell_type": "code",
   "execution_count": 13,
   "id": "df5d4a94-725d-4d3b-885a-8efaa3698b7e",
   "metadata": {},
   "outputs": [],
   "source": [
    "# Ensure the index is a DateTimeIndex\n",
    "dfx.index = pd.to_datetime(dfx.index)\n",
    "\n",
    "# Slice the DataFrame for the year 2023 using boolean indexing\n",
    "df_2023 = dfx[(dfx.index.year == 2023)]"
   ]
  },
  {
   "cell_type": "code",
   "execution_count": 14,
   "id": "e233477a-a713-4d47-8e7d-9aeffaa25ee6",
   "metadata": {},
   "outputs": [
    {
     "data": {
      "text/html": [
       "<div>\n",
       "<style scoped>\n",
       "    .dataframe tbody tr th:only-of-type {\n",
       "        vertical-align: middle;\n",
       "    }\n",
       "\n",
       "    .dataframe tbody tr th {\n",
       "        vertical-align: top;\n",
       "    }\n",
       "\n",
       "    .dataframe thead th {\n",
       "        text-align: right;\n",
       "    }\n",
       "</style>\n",
       "<table border=\"1\" class=\"dataframe\">\n",
       "  <thead>\n",
       "    <tr style=\"text-align: right;\">\n",
       "      <th></th>\n",
       "      <th>Quantity</th>\n",
       "    </tr>\n",
       "    <tr>\n",
       "      <th>Date/Time</th>\n",
       "      <th></th>\n",
       "    </tr>\n",
       "  </thead>\n",
       "  <tbody>\n",
       "    <tr>\n",
       "      <th>2023-01-01 00:00:00</th>\n",
       "      <td>0.3072</td>\n",
       "    </tr>\n",
       "    <tr>\n",
       "      <th>2023-01-01 00:15:00</th>\n",
       "      <td>0.2106</td>\n",
       "    </tr>\n",
       "    <tr>\n",
       "      <th>2023-01-01 00:30:00</th>\n",
       "      <td>0.2514</td>\n",
       "    </tr>\n",
       "    <tr>\n",
       "      <th>2023-01-01 00:45:00</th>\n",
       "      <td>0.2148</td>\n",
       "    </tr>\n",
       "    <tr>\n",
       "      <th>2023-01-01 01:00:00</th>\n",
       "      <td>0.2490</td>\n",
       "    </tr>\n",
       "  </tbody>\n",
       "</table>\n",
       "</div>"
      ],
      "text/plain": [
       "                     Quantity\n",
       "Date/Time                    \n",
       "2023-01-01 00:00:00    0.3072\n",
       "2023-01-01 00:15:00    0.2106\n",
       "2023-01-01 00:30:00    0.2514\n",
       "2023-01-01 00:45:00    0.2148\n",
       "2023-01-01 01:00:00    0.2490"
      ]
     },
     "execution_count": 14,
     "metadata": {},
     "output_type": "execute_result"
    }
   ],
   "source": [
    "df_2023.head()"
   ]
  },
  {
   "cell_type": "code",
   "execution_count": 15,
   "id": "fade7def-087a-432d-9c3b-dbeb687d5915",
   "metadata": {},
   "outputs": [
    {
     "data": {
      "text/plain": [
       "<Axes: xlabel='Date/Time'>"
      ]
     },
     "execution_count": 15,
     "metadata": {},
     "output_type": "execute_result"
    },
    {
     "data": {
      "text/plain": [
       "Text(0.5, 1.0, 'Observed')"
      ]
     },
     "execution_count": 15,
     "metadata": {},
     "output_type": "execute_result"
    },
    {
     "data": {
      "text/plain": [
       "<Axes: xlabel='Date/Time'>"
      ]
     },
     "execution_count": 15,
     "metadata": {},
     "output_type": "execute_result"
    },
    {
     "data": {
      "text/plain": [
       "Text(0.5, 1.0, 'Trend')"
      ]
     },
     "execution_count": 15,
     "metadata": {},
     "output_type": "execute_result"
    },
    {
     "data": {
      "text/plain": [
       "<Axes: xlabel='Date/Time'>"
      ]
     },
     "execution_count": 15,
     "metadata": {},
     "output_type": "execute_result"
    },
    {
     "data": {
      "text/plain": [
       "Text(0.5, 1.0, 'Seasonal')"
      ]
     },
     "execution_count": 15,
     "metadata": {},
     "output_type": "execute_result"
    },
    {
     "data": {
      "text/plain": [
       "<Axes: xlabel='Date/Time'>"
      ]
     },
     "execution_count": 15,
     "metadata": {},
     "output_type": "execute_result"
    },
    {
     "data": {
      "text/plain": [
       "Text(0.5, 1.0, 'Residual')"
      ]
     },
     "execution_count": 15,
     "metadata": {},
     "output_type": "execute_result"
    },
    {
     "data": {
      "image/png": "[encoded data removed]",
      "text/plain": [
       "<Figure size 1000x800 with 4 Axes>"
      ]
     },
     "metadata": {},
     "output_type": "display_data"
    }
   ],
   "source": [
    "# Adjust period based on your data (e.g., 96 for daily if 15-min intervals)\n",
    "result = sm.tsa.seasonal_decompose(df_2023[\"Quantity\"], model=\"additive\", period=2922)\n",
    "\n",
    "# Plot the results\n",
    "fig, axes = plt.subplots(4, 1, figsize=(10, 8), sharex=True)\n",
    "# Plot and set titles for each subplot\n",
    "result.observed.plot(ax=axes[0])\n",
    "axes[0].set_title('Observed')\n",
    "result.trend.plot(ax=axes[1])\n",
    "axes[1].set_title('Trend')\n",
    "result.seasonal.plot(ax=axes[2])\n",
    "axes[2].set_title('Seasonal')\n",
    "result.resid.plot(ax=axes[3])\n",
    "axes[3].set_title('Residual')"
   ]
  },
  {
   "cell_type": "code",
   "execution_count": null,
   "id": "48b5a7b2-86ed-4b93-ba8c-8a56da5db8fe",
   "metadata": {},
   "outputs": [],
   "source": []
  }
 ],
 "metadata": {
  "kernelspec": {
   "display_name": "Python 3 (ipykernel)",
   "language": "python",
   "name": "python3"
  },
  "language_info": {
   "codemirror_mode": {
    "name": "ipython",
    "version": 3
   },
   "file_extension": ".py",
   "mimetype": "text/x-python",
   "name": "python",
   "nbconvert_exporter": "python",
   "pygments_lexer": "ipython3",
   "version": "3.12.4"
  }
 },
 "nbformat": 4,
 "nbformat_minor": 5
}
